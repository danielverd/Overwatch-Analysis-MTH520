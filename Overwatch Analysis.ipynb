{
 "cells": [
  {
   "cell_type": "code",
   "execution_count": 29,
   "metadata": {
    "collapsed": false
   },
   "outputs": [],
   "source": [
    "import numpy as np\n",
    "import scipy as sp\n",
    "import pandas as pd\n",
    "import matplotlib.pyplot as plt\n",
    "from sklearn import linear_model\n",
    "from sklearn import svm\n",
    "from sklearn.model_selection import train_test_split"
   ]
  },
  {
   "cell_type": "code",
   "execution_count": 30,
   "metadata": {
    "collapsed": false
   },
   "outputs": [
    {
     "data": {
      "text/html": [
       "<div>\n",
       "<table border=\"1\" class=\"dataframe\">\n",
       "  <thead>\n",
       "    <tr style=\"text-align: right;\">\n",
       "      <th></th>\n",
       "      <th>Player</th>\n",
       "      <th>Eliminations</th>\n",
       "      <th>Deaths</th>\n",
       "      <th>Objective Kills</th>\n",
       "      <th>Objective Time</th>\n",
       "      <th>Damage</th>\n",
       "      <th>Blocked/Reflected</th>\n",
       "      <th>Healing</th>\n",
       "      <th>Ultimate Casts</th>\n",
       "      <th>Win Percentage</th>\n",
       "      <th>Role</th>\n",
       "    </tr>\n",
       "  </thead>\n",
       "  <tbody>\n",
       "    <tr>\n",
       "      <th>0</th>\n",
       "      <td>1</td>\n",
       "      <td>34.28</td>\n",
       "      <td>11.70</td>\n",
       "      <td>10.77</td>\n",
       "      <td>64</td>\n",
       "      <td>15316</td>\n",
       "      <td>0</td>\n",
       "      <td>1235</td>\n",
       "      <td>4.16</td>\n",
       "      <td>0.613</td>\n",
       "      <td>D</td>\n",
       "    </tr>\n",
       "    <tr>\n",
       "      <th>1</th>\n",
       "      <td>2</td>\n",
       "      <td>37.36</td>\n",
       "      <td>8.86</td>\n",
       "      <td>12.77</td>\n",
       "      <td>64</td>\n",
       "      <td>14489</td>\n",
       "      <td>0</td>\n",
       "      <td>1176</td>\n",
       "      <td>4.00</td>\n",
       "      <td>0.708</td>\n",
       "      <td>D</td>\n",
       "    </tr>\n",
       "    <tr>\n",
       "      <th>2</th>\n",
       "      <td>3</td>\n",
       "      <td>27.64</td>\n",
       "      <td>8.57</td>\n",
       "      <td>6.59</td>\n",
       "      <td>10</td>\n",
       "      <td>13330</td>\n",
       "      <td>0</td>\n",
       "      <td>0</td>\n",
       "      <td>6.18</td>\n",
       "      <td>0.526</td>\n",
       "      <td>D</td>\n",
       "    </tr>\n",
       "    <tr>\n",
       "      <th>3</th>\n",
       "      <td>4</td>\n",
       "      <td>3.10</td>\n",
       "      <td>6.54</td>\n",
       "      <td>0.74</td>\n",
       "      <td>56</td>\n",
       "      <td>610</td>\n",
       "      <td>0</td>\n",
       "      <td>15106</td>\n",
       "      <td>15.06</td>\n",
       "      <td>0.586</td>\n",
       "      <td>S</td>\n",
       "    </tr>\n",
       "    <tr>\n",
       "      <th>4</th>\n",
       "      <td>5</td>\n",
       "      <td>29.19</td>\n",
       "      <td>8.19</td>\n",
       "      <td>12.46</td>\n",
       "      <td>133</td>\n",
       "      <td>10641</td>\n",
       "      <td>0</td>\n",
       "      <td>8521</td>\n",
       "      <td>21.60</td>\n",
       "      <td>0.759</td>\n",
       "      <td>S</td>\n",
       "    </tr>\n",
       "  </tbody>\n",
       "</table>\n",
       "</div>"
      ],
      "text/plain": [
       "   Player  Eliminations  Deaths  Objective Kills  Objective Time  Damage  \\\n",
       "0       1         34.28   11.70            10.77              64   15316   \n",
       "1       2         37.36    8.86            12.77              64   14489   \n",
       "2       3         27.64    8.57             6.59              10   13330   \n",
       "3       4          3.10    6.54             0.74              56     610   \n",
       "4       5         29.19    8.19            12.46             133   10641   \n",
       "\n",
       "   Blocked/Reflected  Healing  Ultimate Casts  Win Percentage Role  \n",
       "0                  0     1235            4.16           0.613    D  \n",
       "1                  0     1176            4.00           0.708    D  \n",
       "2                  0        0            6.18           0.526    D  \n",
       "3                  0    15106           15.06           0.586    S  \n",
       "4                  0     8521           21.60           0.759    S  "
      ]
     },
     "execution_count": 30,
     "metadata": {},
     "output_type": "execute_result"
    }
   ],
   "source": [
    "players = pd.read_csv('overwatchData.csv')\n",
    "players.head()"
   ]
  },
  {
   "cell_type": "code",
   "execution_count": 31,
   "metadata": {
    "collapsed": false
   },
   "outputs": [
    {
     "data": {
      "text/html": [
       "<div>\n",
       "<table border=\"1\" class=\"dataframe\">\n",
       "  <thead>\n",
       "    <tr style=\"text-align: right;\">\n",
       "      <th></th>\n",
       "      <th>Player</th>\n",
       "      <th>Eliminations</th>\n",
       "      <th>Deaths</th>\n",
       "      <th>Objective Kills</th>\n",
       "      <th>Objective Time</th>\n",
       "      <th>Damage</th>\n",
       "      <th>Blocked/Reflected</th>\n",
       "      <th>Healing</th>\n",
       "      <th>Ultimate Casts</th>\n",
       "      <th>Win Percentage</th>\n",
       "      <th>KD Ratio</th>\n",
       "    </tr>\n",
       "  </thead>\n",
       "  <tbody>\n",
       "    <tr>\n",
       "      <th>0</th>\n",
       "      <td>1</td>\n",
       "      <td>34.28</td>\n",
       "      <td>11.70</td>\n",
       "      <td>10.77</td>\n",
       "      <td>64</td>\n",
       "      <td>15316</td>\n",
       "      <td>0</td>\n",
       "      <td>1235</td>\n",
       "      <td>4.16</td>\n",
       "      <td>0.613</td>\n",
       "      <td>2.929915</td>\n",
       "    </tr>\n",
       "    <tr>\n",
       "      <th>1</th>\n",
       "      <td>2</td>\n",
       "      <td>37.36</td>\n",
       "      <td>8.86</td>\n",
       "      <td>12.77</td>\n",
       "      <td>64</td>\n",
       "      <td>14489</td>\n",
       "      <td>0</td>\n",
       "      <td>1176</td>\n",
       "      <td>4.00</td>\n",
       "      <td>0.708</td>\n",
       "      <td>4.216704</td>\n",
       "    </tr>\n",
       "    <tr>\n",
       "      <th>2</th>\n",
       "      <td>3</td>\n",
       "      <td>27.64</td>\n",
       "      <td>8.57</td>\n",
       "      <td>6.59</td>\n",
       "      <td>10</td>\n",
       "      <td>13330</td>\n",
       "      <td>0</td>\n",
       "      <td>0</td>\n",
       "      <td>6.18</td>\n",
       "      <td>0.526</td>\n",
       "      <td>3.225204</td>\n",
       "    </tr>\n",
       "    <tr>\n",
       "      <th>3</th>\n",
       "      <td>4</td>\n",
       "      <td>3.10</td>\n",
       "      <td>6.54</td>\n",
       "      <td>0.74</td>\n",
       "      <td>56</td>\n",
       "      <td>610</td>\n",
       "      <td>0</td>\n",
       "      <td>15106</td>\n",
       "      <td>15.06</td>\n",
       "      <td>0.586</td>\n",
       "      <td>0.474006</td>\n",
       "    </tr>\n",
       "    <tr>\n",
       "      <th>4</th>\n",
       "      <td>5</td>\n",
       "      <td>29.19</td>\n",
       "      <td>8.19</td>\n",
       "      <td>12.46</td>\n",
       "      <td>133</td>\n",
       "      <td>10641</td>\n",
       "      <td>0</td>\n",
       "      <td>8521</td>\n",
       "      <td>21.60</td>\n",
       "      <td>0.759</td>\n",
       "      <td>3.564103</td>\n",
       "    </tr>\n",
       "  </tbody>\n",
       "</table>\n",
       "</div>"
      ],
      "text/plain": [
       "   Player  Eliminations  Deaths  Objective Kills  Objective Time  Damage  \\\n",
       "0       1         34.28   11.70            10.77              64   15316   \n",
       "1       2         37.36    8.86            12.77              64   14489   \n",
       "2       3         27.64    8.57             6.59              10   13330   \n",
       "3       4          3.10    6.54             0.74              56     610   \n",
       "4       5         29.19    8.19            12.46             133   10641   \n",
       "\n",
       "   Blocked/Reflected  Healing  Ultimate Casts  Win Percentage  KD Ratio  \n",
       "0                  0     1235            4.16           0.613  2.929915  \n",
       "1                  0     1176            4.00           0.708  4.216704  \n",
       "2                  0        0            6.18           0.526  3.225204  \n",
       "3                  0    15106           15.06           0.586  0.474006  \n",
       "4                  0     8521           21.60           0.759  3.564103  "
      ]
     },
     "execution_count": 31,
     "metadata": {},
     "output_type": "execute_result"
    }
   ],
   "source": [
    "players['KD Ratio'] = players['Eliminations']/players['Deaths']\n",
    "del players['Role']\n",
    "players.head()"
   ]
  },
  {
   "cell_type": "markdown",
   "metadata": {},
   "source": [
    "There are some statistics that are direct arithmetic combinations of available statistics, such as Kill-Death ratio (the number of Eliminations per life) and similar ratios for each of the damae, blocking, healing stats. These will be added as new columns, since they may correlate with win%.\n",
    "The dataframe will be edited to remove Role, which is a string category that cannot be analyzed by scikit-learn. Additionally, the additional statistics to be examined will be appended to the dataframe."
   ]
  },
  {
   "cell_type": "code",
   "execution_count": 32,
   "metadata": {
    "collapsed": false
   },
   "outputs": [
    {
     "data": {
      "text/html": [
       "<div>\n",
       "<table border=\"1\" class=\"dataframe\">\n",
       "  <thead>\n",
       "    <tr style=\"text-align: right;\">\n",
       "      <th></th>\n",
       "      <th>Player</th>\n",
       "      <th>Eliminations</th>\n",
       "      <th>Deaths</th>\n",
       "      <th>Objective Kills</th>\n",
       "      <th>Objective Time</th>\n",
       "      <th>Damage</th>\n",
       "      <th>Blocked/Reflected</th>\n",
       "      <th>Healing</th>\n",
       "      <th>Ultimate Casts</th>\n",
       "      <th>Win Percentage</th>\n",
       "      <th>KD Ratio</th>\n",
       "      <th>Objective per Life</th>\n",
       "      <th>Damage per Life</th>\n",
       "      <th>Blocked per Life</th>\n",
       "      <th>Healing per Life</th>\n",
       "    </tr>\n",
       "  </thead>\n",
       "  <tbody>\n",
       "    <tr>\n",
       "      <th>0</th>\n",
       "      <td>1</td>\n",
       "      <td>34.28</td>\n",
       "      <td>11.70</td>\n",
       "      <td>10.77</td>\n",
       "      <td>64</td>\n",
       "      <td>15316</td>\n",
       "      <td>0</td>\n",
       "      <td>1235</td>\n",
       "      <td>4.16</td>\n",
       "      <td>0.613</td>\n",
       "      <td>2.929915</td>\n",
       "      <td>0.920513</td>\n",
       "      <td>1309.059829</td>\n",
       "      <td>0.0</td>\n",
       "      <td>105.555556</td>\n",
       "    </tr>\n",
       "    <tr>\n",
       "      <th>1</th>\n",
       "      <td>2</td>\n",
       "      <td>37.36</td>\n",
       "      <td>8.86</td>\n",
       "      <td>12.77</td>\n",
       "      <td>64</td>\n",
       "      <td>14489</td>\n",
       "      <td>0</td>\n",
       "      <td>1176</td>\n",
       "      <td>4.00</td>\n",
       "      <td>0.708</td>\n",
       "      <td>4.216704</td>\n",
       "      <td>1.441309</td>\n",
       "      <td>1635.327314</td>\n",
       "      <td>0.0</td>\n",
       "      <td>132.731377</td>\n",
       "    </tr>\n",
       "    <tr>\n",
       "      <th>2</th>\n",
       "      <td>3</td>\n",
       "      <td>27.64</td>\n",
       "      <td>8.57</td>\n",
       "      <td>6.59</td>\n",
       "      <td>10</td>\n",
       "      <td>13330</td>\n",
       "      <td>0</td>\n",
       "      <td>0</td>\n",
       "      <td>6.18</td>\n",
       "      <td>0.526</td>\n",
       "      <td>3.225204</td>\n",
       "      <td>0.768961</td>\n",
       "      <td>1555.425904</td>\n",
       "      <td>0.0</td>\n",
       "      <td>0.000000</td>\n",
       "    </tr>\n",
       "    <tr>\n",
       "      <th>3</th>\n",
       "      <td>4</td>\n",
       "      <td>3.10</td>\n",
       "      <td>6.54</td>\n",
       "      <td>0.74</td>\n",
       "      <td>56</td>\n",
       "      <td>610</td>\n",
       "      <td>0</td>\n",
       "      <td>15106</td>\n",
       "      <td>15.06</td>\n",
       "      <td>0.586</td>\n",
       "      <td>0.474006</td>\n",
       "      <td>0.113150</td>\n",
       "      <td>93.272171</td>\n",
       "      <td>0.0</td>\n",
       "      <td>2309.785933</td>\n",
       "    </tr>\n",
       "    <tr>\n",
       "      <th>4</th>\n",
       "      <td>5</td>\n",
       "      <td>29.19</td>\n",
       "      <td>8.19</td>\n",
       "      <td>12.46</td>\n",
       "      <td>133</td>\n",
       "      <td>10641</td>\n",
       "      <td>0</td>\n",
       "      <td>8521</td>\n",
       "      <td>21.60</td>\n",
       "      <td>0.759</td>\n",
       "      <td>3.564103</td>\n",
       "      <td>1.521368</td>\n",
       "      <td>1299.267399</td>\n",
       "      <td>0.0</td>\n",
       "      <td>1040.415140</td>\n",
       "    </tr>\n",
       "  </tbody>\n",
       "</table>\n",
       "</div>"
      ],
      "text/plain": [
       "   Player  Eliminations  Deaths  Objective Kills  Objective Time  Damage  \\\n",
       "0       1         34.28   11.70            10.77              64   15316   \n",
       "1       2         37.36    8.86            12.77              64   14489   \n",
       "2       3         27.64    8.57             6.59              10   13330   \n",
       "3       4          3.10    6.54             0.74              56     610   \n",
       "4       5         29.19    8.19            12.46             133   10641   \n",
       "\n",
       "   Blocked/Reflected  Healing  Ultimate Casts  Win Percentage  KD Ratio  \\\n",
       "0                  0     1235            4.16           0.613  2.929915   \n",
       "1                  0     1176            4.00           0.708  4.216704   \n",
       "2                  0        0            6.18           0.526  3.225204   \n",
       "3                  0    15106           15.06           0.586  0.474006   \n",
       "4                  0     8521           21.60           0.759  3.564103   \n",
       "\n",
       "   Objective per Life  Damage per Life  Blocked per Life  Healing per Life  \n",
       "0            0.920513      1309.059829               0.0        105.555556  \n",
       "1            1.441309      1635.327314               0.0        132.731377  \n",
       "2            0.768961      1555.425904               0.0          0.000000  \n",
       "3            0.113150        93.272171               0.0       2309.785933  \n",
       "4            1.521368      1299.267399               0.0       1040.415140  "
      ]
     },
     "execution_count": 32,
     "metadata": {},
     "output_type": "execute_result"
    }
   ],
   "source": [
    "players['Objective per Life'] = players['Objective Kills']/players['Deaths']\n",
    "players['Damage per Life'] = players['Damage']/players['Deaths']\n",
    "players['Blocked per Life'] = players['Blocked/Reflected']/players['Deaths']\n",
    "players['Healing per Life'] = players['Healing']/players['Deaths']\n",
    "players.head()"
   ]
  },
  {
   "cell_type": "code",
   "execution_count": 33,
   "metadata": {
    "collapsed": false
   },
   "outputs": [
    {
     "data": {
      "image/png": "[encoded data removed]",
      "text/plain": [
       "<matplotlib.figure.Figure at 0x20a388ea470>"
      ]
     },
     "metadata": {},
     "output_type": "display_data"
    },
    {
     "data": {
      "image/png": "[encoded data removed]",
      "text/plain": [
       "<matplotlib.figure.Figure at 0x20a39c79518>"
      ]
     },
     "metadata": {},
     "output_type": "display_data"
    },
    {
     "data": {
      "image/png": "[encoded data removed]",
      "text/plain": [
       "<matplotlib.figure.Figure at 0x20a38671a58>"
      ]
     },
     "metadata": {},
     "output_type": "display_data"
    },
    {
     "data": {
      "image/png": "[encoded data removed]",
      "text/plain": [
       "<matplotlib.figure.Figure at 0x20a3871a550>"
      ]
     },
     "metadata": {},
     "output_type": "display_data"
    },
    {
     "data": {
      "image/png": "[encoded data removed]",
      "text/plain": [
       "<matplotlib.figure.Figure at 0x20a389f4b70>"
      ]
     },
     "metadata": {},
     "output_type": "display_data"
    },
    {
     "data": {
      "image/png": "[encoded data removed]",
      "text/plain": [
       "<matplotlib.figure.Figure at 0x20a39cea908>"
      ]
     },
     "metadata": {},
     "output_type": "display_data"
    },
    {
     "data": {
      "image/png": "[encoded data removed]",
      "text/plain": [
       "<matplotlib.figure.Figure at 0x20a38929390>"
      ]
     },
     "metadata": {},
     "output_type": "display_data"
    },
    {
     "data": {
      "image/png": "[encoded data removed]",
      "text/plain": [
       "<matplotlib.figure.Figure at 0x20a389f4f28>"
      ]
     },
     "metadata": {},
     "output_type": "display_data"
    },
    {
     "data": {
      "image/png": "[encoded data removed]",
      "text/plain": [
       "<matplotlib.figure.Figure at 0x20a3895e9e8>"
      ]
     },
     "metadata": {},
     "output_type": "display_data"
    },
    {
     "data": {
      "image/png": "[encoded data removed]",
      "text/plain": [
       "<matplotlib.figure.Figure at 0x20a38823518>"
      ]
     },
     "metadata": {},
     "output_type": "display_data"
    },
    {
     "data": {
      "image/png": "[encoded data removed]",
      "text/plain": [
       "<matplotlib.figure.Figure at 0x20a3813c208>"
      ]
     },
     "metadata": {},
     "output_type": "display_data"
    },
    {
     "data": {
      "image/png": "[encoded data removed]",
      "text/plain": [
       "<matplotlib.figure.Figure at 0x20a3886e278>"
      ]
     },
     "metadata": {},
     "output_type": "display_data"
    },
    {
     "data": {
      "image/png": "[encoded data removed]",
      "text/plain": [
       "<matplotlib.figure.Figure at 0x20a3887e048>"
      ]
     },
     "metadata": {},
     "output_type": "display_data"
    }
   ],
   "source": [
    "players.plot(x='Eliminations', y='Win Percentage', style='o', ylim=(0,1),xlim=(0,50))\n",
    "plt.savefig('elims.png')\n",
    "players.plot(x='Deaths', y='Win Percentage', style='o', ylim=(0,1),xlim=(0,20))\n",
    "plt.savefig('deaths.png')\n",
    "players.plot(x='KD Ratio', y='Win Percentage', style='o', ylim=(0,1),xlim=(0,10))\n",
    "plt.savefig('cupcake.png')\n",
    "players.plot(x='Healing', y='Win Percentage', style='o', ylim=(0,1),xlim=(0,20000))\n",
    "plt.savefig('heals.png')\n",
    "players.plot(x='Objective Kills', y='Win Percentage', style='o', ylim=(0,1),xlim=(0,30))\n",
    "plt.savefig('okills.png')\n",
    "players.plot(x='Objective Time', y='Win Percentage', style='o', ylim=(0,1),xlim=(0,300))\n",
    "plt.savefig('otime.png')\n",
    "players.plot(x='Damage', y='Win Percentage', style='o', ylim=(0,1),xlim=(0,20000))\n",
    "plt.savefig('damage.png')\n",
    "players.plot(x='Blocked/Reflected', y='Win Percentage', style='o', ylim=(0,1),xlim=(0,20000))\n",
    "plt.savefig('block.png')\n",
    "players.plot(x='Objective per Life', y='Win Percentage', style='o', ylim=(0,1),xlim=(0,10))\n",
    "plt.savefig('objkper.png')\n",
    "players.plot(x='Damage per Life', y='Win Percentage', style='o', ylim=(0,1),xlim=(0,5000))\n",
    "plt.savefig('damageper.png')\n",
    "players.plot(x='Blocked per Life', y='Win Percentage', style='o', ylim=(0,1),xlim=(0,5000))\n",
    "plt.savefig('blockper.png')\n",
    "players.plot(x='Healing per Life', y='Win Percentage', style='o', ylim=(0,1),xlim=(0,5000))\n",
    "plt.savefig('healper.png')\n",
    "players.plot(x='Ultimate Casts', y = 'Win Percentage', style ='o', ylim=(0,1), xlim=(0,30))\n",
    "plt.savefig('ultcorr.png')\n",
    "plt.show()"
   ]
  },
  {
   "cell_type": "markdown",
   "metadata": {},
   "source": [
    "Next we will examine a statistic that should value a player's contribution regardless of role: the sum of damage, blocking, and healing. This statistics called StatSum is a quantitative measure of a player/hero combination's versatility. "
   ]
  },
  {
   "cell_type": "code",
   "execution_count": 34,
   "metadata": {
    "collapsed": false
   },
   "outputs": [
    {
     "data": {
      "image/png": "[encoded data removed]",
      "text/plain": [
       "<matplotlib.figure.Figure at 0x20a38127860>"
      ]
     },
     "metadata": {},
     "output_type": "display_data"
    },
    {
     "data": {
      "image/png": "[encoded data removed]",
      "text/plain": [
       "<matplotlib.figure.Figure at 0x20a39e3ae48>"
      ]
     },
     "metadata": {},
     "output_type": "display_data"
    }
   ],
   "source": [
    "players['StatSum'] = players['Damage']+players['Blocked/Reflected']+players['Healing']\n",
    "players['Stats per Life'] = players['StatSum']/players['Deaths']\n",
    "players.plot(x='StatSum', y='Win Percentage', style='o', ylim=(0,1),xlim=(8000,25000))\n",
    "plt.savefig('statsum.png')\n",
    "players.plot(x='Stats per Life', y='Win Percentage', style='o', ylim=(0,1),xlim=(0,10000))\n",
    "plt.savefig('sumper.png')\n",
    "plt.show()"
   ]
  },
  {
   "cell_type": "markdown",
   "metadata": {},
   "source": [
    "After preprocessing the data, several inferences can be made about the correlation of data points with win%. First, adding the \"per life\" qualifier seems to increase the correlation of the associated stats. This agrees with intuition, as damage per life represents a player's ability to impact a fight before being killed and removed from the action."
   ]
  },
  {
   "cell_type": "markdown",
   "metadata": {},
   "source": [
    "Second, eliminations (and KD Ratio) look to have the strongest correlation with win%. Although Overwatch prides itself on being a team-oriented game, the players who eliminate opposing players will be the most valuable. "
   ]
  },
  {
   "cell_type": "markdown",
   "metadata": {},
   "source": [
    "Third, StatSum and StatSum per Life strengthen the correlation of Damage, Healing, and Blocking. This strengthens the hypothesis that Overwatch reward versatility in its players. Players that combine to effectively produce two of the three Individual Statistics will be more valuable than those that are one-dimentional. (No character in Overwatch is capable of produce all three Stats)"
   ]
  },
  {
   "cell_type": "code",
   "execution_count": 35,
   "metadata": {
    "collapsed": false
   },
   "outputs": [],
   "source": [
    "target = players['Win Percentage']\n",
    "target *= 1000\n",
    "data = players\n",
    "del data['Win Percentage']\n",
    "del data['Player']"
   ]
  },
  {
   "cell_type": "code",
   "execution_count": 36,
   "metadata": {
    "collapsed": false
   },
   "outputs": [
    {
     "data": {
      "text/html": [
       "<div>\n",
       "<table border=\"1\" class=\"dataframe\">\n",
       "  <thead>\n",
       "    <tr style=\"text-align: right;\">\n",
       "      <th></th>\n",
       "      <th>Eliminations</th>\n",
       "      <th>Deaths</th>\n",
       "      <th>Objective Kills</th>\n",
       "      <th>Objective Time</th>\n",
       "      <th>Damage</th>\n",
       "      <th>Blocked/Reflected</th>\n",
       "      <th>Healing</th>\n",
       "      <th>Ultimate Casts</th>\n",
       "      <th>KD Ratio</th>\n",
       "      <th>Objective per Life</th>\n",
       "      <th>Damage per Life</th>\n",
       "      <th>Blocked per Life</th>\n",
       "      <th>Healing per Life</th>\n",
       "      <th>StatSum</th>\n",
       "      <th>Stats per Life</th>\n",
       "    </tr>\n",
       "  </thead>\n",
       "  <tbody>\n",
       "    <tr>\n",
       "      <th>0</th>\n",
       "      <td>34.28</td>\n",
       "      <td>11.70</td>\n",
       "      <td>10.77</td>\n",
       "      <td>64</td>\n",
       "      <td>15316</td>\n",
       "      <td>0</td>\n",
       "      <td>1235</td>\n",
       "      <td>4.16</td>\n",
       "      <td>2.929915</td>\n",
       "      <td>0.920513</td>\n",
       "      <td>1309.059829</td>\n",
       "      <td>0.0</td>\n",
       "      <td>105.555556</td>\n",
       "      <td>16551</td>\n",
       "      <td>1414.615385</td>\n",
       "    </tr>\n",
       "    <tr>\n",
       "      <th>1</th>\n",
       "      <td>37.36</td>\n",
       "      <td>8.86</td>\n",
       "      <td>12.77</td>\n",
       "      <td>64</td>\n",
       "      <td>14489</td>\n",
       "      <td>0</td>\n",
       "      <td>1176</td>\n",
       "      <td>4.00</td>\n",
       "      <td>4.216704</td>\n",
       "      <td>1.441309</td>\n",
       "      <td>1635.327314</td>\n",
       "      <td>0.0</td>\n",
       "      <td>132.731377</td>\n",
       "      <td>15665</td>\n",
       "      <td>1768.058691</td>\n",
       "    </tr>\n",
       "    <tr>\n",
       "      <th>2</th>\n",
       "      <td>27.64</td>\n",
       "      <td>8.57</td>\n",
       "      <td>6.59</td>\n",
       "      <td>10</td>\n",
       "      <td>13330</td>\n",
       "      <td>0</td>\n",
       "      <td>0</td>\n",
       "      <td>6.18</td>\n",
       "      <td>3.225204</td>\n",
       "      <td>0.768961</td>\n",
       "      <td>1555.425904</td>\n",
       "      <td>0.0</td>\n",
       "      <td>0.000000</td>\n",
       "      <td>13330</td>\n",
       "      <td>1555.425904</td>\n",
       "    </tr>\n",
       "    <tr>\n",
       "      <th>3</th>\n",
       "      <td>3.10</td>\n",
       "      <td>6.54</td>\n",
       "      <td>0.74</td>\n",
       "      <td>56</td>\n",
       "      <td>610</td>\n",
       "      <td>0</td>\n",
       "      <td>15106</td>\n",
       "      <td>15.06</td>\n",
       "      <td>0.474006</td>\n",
       "      <td>0.113150</td>\n",
       "      <td>93.272171</td>\n",
       "      <td>0.0</td>\n",
       "      <td>2309.785933</td>\n",
       "      <td>15716</td>\n",
       "      <td>2403.058104</td>\n",
       "    </tr>\n",
       "    <tr>\n",
       "      <th>4</th>\n",
       "      <td>29.19</td>\n",
       "      <td>8.19</td>\n",
       "      <td>12.46</td>\n",
       "      <td>133</td>\n",
       "      <td>10641</td>\n",
       "      <td>0</td>\n",
       "      <td>8521</td>\n",
       "      <td>21.60</td>\n",
       "      <td>3.564103</td>\n",
       "      <td>1.521368</td>\n",
       "      <td>1299.267399</td>\n",
       "      <td>0.0</td>\n",
       "      <td>1040.415140</td>\n",
       "      <td>19162</td>\n",
       "      <td>2339.682540</td>\n",
       "    </tr>\n",
       "  </tbody>\n",
       "</table>\n",
       "</div>"
      ],
      "text/plain": [
       "   Eliminations  Deaths  Objective Kills  Objective Time  Damage  \\\n",
       "0         34.28   11.70            10.77              64   15316   \n",
       "1         37.36    8.86            12.77              64   14489   \n",
       "2         27.64    8.57             6.59              10   13330   \n",
       "3          3.10    6.54             0.74              56     610   \n",
       "4         29.19    8.19            12.46             133   10641   \n",
       "\n",
       "   Blocked/Reflected  Healing  Ultimate Casts  KD Ratio  Objective per Life  \\\n",
       "0                  0     1235            4.16  2.929915            0.920513   \n",
       "1                  0     1176            4.00  4.216704            1.441309   \n",
       "2                  0        0            6.18  3.225204            0.768961   \n",
       "3                  0    15106           15.06  0.474006            0.113150   \n",
       "4                  0     8521           21.60  3.564103            1.521368   \n",
       "\n",
       "   Damage per Life  Blocked per Life  Healing per Life  StatSum  \\\n",
       "0      1309.059829               0.0        105.555556    16551   \n",
       "1      1635.327314               0.0        132.731377    15665   \n",
       "2      1555.425904               0.0          0.000000    13330   \n",
       "3        93.272171               0.0       2309.785933    15716   \n",
       "4      1299.267399               0.0       1040.415140    19162   \n",
       "\n",
       "   Stats per Life  \n",
       "0     1414.615385  \n",
       "1     1768.058691  \n",
       "2     1555.425904  \n",
       "3     2403.058104  \n",
       "4     2339.682540  "
      ]
     },
     "execution_count": 36,
     "metadata": {},
     "output_type": "execute_result"
    }
   ],
   "source": [
    "data.head()"
   ]
  },
  {
   "cell_type": "code",
   "execution_count": 37,
   "metadata": {
    "collapsed": false
   },
   "outputs": [
    {
     "data": {
      "text/plain": [
       "0    613.0\n",
       "1    708.0\n",
       "2    526.0\n",
       "3    586.0\n",
       "4    759.0\n",
       "Name: Win Percentage, dtype: float64"
      ]
     },
     "execution_count": 37,
     "metadata": {},
     "output_type": "execute_result"
    }
   ],
   "source": [
    "target.head()"
   ]
  },
  {
   "cell_type": "markdown",
   "metadata": {
    "collapsed": true
   },
   "source": [
    "Since the model resulting from this analysis will be used on data generated in the future, the validity of the model must be checked by splitting the data into training and test data. That will be done using built-in functions from scikit-learn."
   ]
  },
  {
   "cell_type": "code",
   "execution_count": 38,
   "metadata": {
    "collapsed": false
   },
   "outputs": [],
   "source": [
    "x_train,x_test,y_train,y_test = train_test_split(data,target,test_size=0.2,random_state=4)"
   ]
  },
  {
   "cell_type": "code",
   "execution_count": 39,
   "metadata": {
    "collapsed": false,
    "scrolled": false
   },
   "outputs": [
    {
     "data": {
      "text/html": [
       "<div>\n",
       "<table border=\"1\" class=\"dataframe\">\n",
       "  <thead>\n",
       "    <tr style=\"text-align: right;\">\n",
       "      <th></th>\n",
       "      <th>Eliminations</th>\n",
       "      <th>Deaths</th>\n",
       "      <th>Objective Kills</th>\n",
       "      <th>Objective Time</th>\n",
       "      <th>Damage</th>\n",
       "      <th>Blocked/Reflected</th>\n",
       "      <th>Healing</th>\n",
       "      <th>Ultimate Casts</th>\n",
       "      <th>KD Ratio</th>\n",
       "      <th>Objective per Life</th>\n",
       "      <th>Damage per Life</th>\n",
       "      <th>Blocked per Life</th>\n",
       "      <th>Healing per Life</th>\n",
       "      <th>StatSum</th>\n",
       "      <th>Stats per Life</th>\n",
       "    </tr>\n",
       "  </thead>\n",
       "  <tbody>\n",
       "    <tr>\n",
       "      <th>76</th>\n",
       "      <td>21.04</td>\n",
       "      <td>10.14</td>\n",
       "      <td>8.54</td>\n",
       "      <td>109</td>\n",
       "      <td>10287</td>\n",
       "      <td>22032</td>\n",
       "      <td>0</td>\n",
       "      <td>4.48</td>\n",
       "      <td>2.074951</td>\n",
       "      <td>0.842209</td>\n",
       "      <td>1014.497041</td>\n",
       "      <td>2172.781065</td>\n",
       "      <td>0.000000</td>\n",
       "      <td>32319</td>\n",
       "      <td>3187.278107</td>\n",
       "    </tr>\n",
       "    <tr>\n",
       "      <th>26</th>\n",
       "      <td>21.00</td>\n",
       "      <td>8.67</td>\n",
       "      <td>8.24</td>\n",
       "      <td>111</td>\n",
       "      <td>7323</td>\n",
       "      <td>0</td>\n",
       "      <td>10031</td>\n",
       "      <td>18.07</td>\n",
       "      <td>2.422145</td>\n",
       "      <td>0.950404</td>\n",
       "      <td>844.636678</td>\n",
       "      <td>0.000000</td>\n",
       "      <td>1156.978085</td>\n",
       "      <td>17354</td>\n",
       "      <td>2001.614764</td>\n",
       "    </tr>\n",
       "    <tr>\n",
       "      <th>68</th>\n",
       "      <td>28.35</td>\n",
       "      <td>9.86</td>\n",
       "      <td>9.93</td>\n",
       "      <td>64</td>\n",
       "      <td>18287</td>\n",
       "      <td>0</td>\n",
       "      <td>0</td>\n",
       "      <td>5.80</td>\n",
       "      <td>2.875254</td>\n",
       "      <td>1.007099</td>\n",
       "      <td>1854.665314</td>\n",
       "      <td>0.000000</td>\n",
       "      <td>0.000000</td>\n",
       "      <td>18287</td>\n",
       "      <td>1854.665314</td>\n",
       "    </tr>\n",
       "    <tr>\n",
       "      <th>20</th>\n",
       "      <td>15.19</td>\n",
       "      <td>7.67</td>\n",
       "      <td>4.82</td>\n",
       "      <td>51</td>\n",
       "      <td>5521</td>\n",
       "      <td>0</td>\n",
       "      <td>7581</td>\n",
       "      <td>8.10</td>\n",
       "      <td>1.980443</td>\n",
       "      <td>0.628422</td>\n",
       "      <td>719.817471</td>\n",
       "      <td>0.000000</td>\n",
       "      <td>988.396349</td>\n",
       "      <td>13102</td>\n",
       "      <td>1708.213820</td>\n",
       "    </tr>\n",
       "    <tr>\n",
       "      <th>19</th>\n",
       "      <td>19.87</td>\n",
       "      <td>9.91</td>\n",
       "      <td>9.99</td>\n",
       "      <td>131</td>\n",
       "      <td>7342</td>\n",
       "      <td>0</td>\n",
       "      <td>7483</td>\n",
       "      <td>17.88</td>\n",
       "      <td>2.005045</td>\n",
       "      <td>1.008073</td>\n",
       "      <td>740.867810</td>\n",
       "      <td>0.000000</td>\n",
       "      <td>755.095863</td>\n",
       "      <td>14825</td>\n",
       "      <td>1495.963673</td>\n",
       "    </tr>\n",
       "    <tr>\n",
       "      <th>67</th>\n",
       "      <td>36.02</td>\n",
       "      <td>8.93</td>\n",
       "      <td>11.13</td>\n",
       "      <td>48</td>\n",
       "      <td>12551</td>\n",
       "      <td>0</td>\n",
       "      <td>1101</td>\n",
       "      <td>3.38</td>\n",
       "      <td>4.033595</td>\n",
       "      <td>1.246361</td>\n",
       "      <td>1405.487122</td>\n",
       "      <td>0.000000</td>\n",
       "      <td>123.292273</td>\n",
       "      <td>13652</td>\n",
       "      <td>1528.779395</td>\n",
       "    </tr>\n",
       "    <tr>\n",
       "      <th>66</th>\n",
       "      <td>29.91</td>\n",
       "      <td>8.90</td>\n",
       "      <td>8.91</td>\n",
       "      <td>35</td>\n",
       "      <td>15654</td>\n",
       "      <td>0</td>\n",
       "      <td>2426</td>\n",
       "      <td>5.28</td>\n",
       "      <td>3.360674</td>\n",
       "      <td>1.001124</td>\n",
       "      <td>1758.876404</td>\n",
       "      <td>0.000000</td>\n",
       "      <td>272.584270</td>\n",
       "      <td>18080</td>\n",
       "      <td>2031.460674</td>\n",
       "    </tr>\n",
       "    <tr>\n",
       "      <th>62</th>\n",
       "      <td>38.31</td>\n",
       "      <td>7.97</td>\n",
       "      <td>11.39</td>\n",
       "      <td>58</td>\n",
       "      <td>14709</td>\n",
       "      <td>1945</td>\n",
       "      <td>0</td>\n",
       "      <td>8.26</td>\n",
       "      <td>4.806775</td>\n",
       "      <td>1.429109</td>\n",
       "      <td>1845.545797</td>\n",
       "      <td>244.040151</td>\n",
       "      <td>0.000000</td>\n",
       "      <td>16654</td>\n",
       "      <td>2089.585947</td>\n",
       "    </tr>\n",
       "    <tr>\n",
       "      <th>5</th>\n",
       "      <td>25.74</td>\n",
       "      <td>8.70</td>\n",
       "      <td>9.47</td>\n",
       "      <td>59</td>\n",
       "      <td>11302</td>\n",
       "      <td>0</td>\n",
       "      <td>7919</td>\n",
       "      <td>8.08</td>\n",
       "      <td>2.958621</td>\n",
       "      <td>1.088506</td>\n",
       "      <td>1299.080460</td>\n",
       "      <td>0.000000</td>\n",
       "      <td>910.229885</td>\n",
       "      <td>19221</td>\n",
       "      <td>2209.310345</td>\n",
       "    </tr>\n",
       "    <tr>\n",
       "      <th>35</th>\n",
       "      <td>35.47</td>\n",
       "      <td>5.91</td>\n",
       "      <td>15.56</td>\n",
       "      <td>99</td>\n",
       "      <td>16810</td>\n",
       "      <td>7164</td>\n",
       "      <td>0</td>\n",
       "      <td>9.73</td>\n",
       "      <td>6.001692</td>\n",
       "      <td>2.632826</td>\n",
       "      <td>2844.331641</td>\n",
       "      <td>1212.182741</td>\n",
       "      <td>0.000000</td>\n",
       "      <td>23974</td>\n",
       "      <td>4056.514382</td>\n",
       "    </tr>\n",
       "    <tr>\n",
       "      <th>51</th>\n",
       "      <td>38.96</td>\n",
       "      <td>8.29</td>\n",
       "      <td>15.43</td>\n",
       "      <td>93</td>\n",
       "      <td>19761</td>\n",
       "      <td>8184</td>\n",
       "      <td>0</td>\n",
       "      <td>9.63</td>\n",
       "      <td>4.699638</td>\n",
       "      <td>1.861279</td>\n",
       "      <td>2383.715320</td>\n",
       "      <td>987.213510</td>\n",
       "      <td>0.000000</td>\n",
       "      <td>27945</td>\n",
       "      <td>3370.928830</td>\n",
       "    </tr>\n",
       "    <tr>\n",
       "      <th>45</th>\n",
       "      <td>33.25</td>\n",
       "      <td>8.43</td>\n",
       "      <td>11.25</td>\n",
       "      <td>76</td>\n",
       "      <td>14788</td>\n",
       "      <td>0</td>\n",
       "      <td>5097</td>\n",
       "      <td>5.64</td>\n",
       "      <td>3.944247</td>\n",
       "      <td>1.334520</td>\n",
       "      <td>1754.211151</td>\n",
       "      <td>0.000000</td>\n",
       "      <td>604.626335</td>\n",
       "      <td>19885</td>\n",
       "      <td>2358.837485</td>\n",
       "    </tr>\n",
       "    <tr>\n",
       "      <th>59</th>\n",
       "      <td>34.12</td>\n",
       "      <td>10.46</td>\n",
       "      <td>11.56</td>\n",
       "      <td>43</td>\n",
       "      <td>18695</td>\n",
       "      <td>0</td>\n",
       "      <td>2224</td>\n",
       "      <td>5.90</td>\n",
       "      <td>3.261950</td>\n",
       "      <td>1.105163</td>\n",
       "      <td>1787.284895</td>\n",
       "      <td>0.000000</td>\n",
       "      <td>212.619503</td>\n",
       "      <td>20919</td>\n",
       "      <td>1999.904398</td>\n",
       "    </tr>\n",
       "    <tr>\n",
       "      <th>14</th>\n",
       "      <td>31.71</td>\n",
       "      <td>7.83</td>\n",
       "      <td>11.73</td>\n",
       "      <td>63</td>\n",
       "      <td>14929</td>\n",
       "      <td>0</td>\n",
       "      <td>8373</td>\n",
       "      <td>8.78</td>\n",
       "      <td>4.049808</td>\n",
       "      <td>1.498084</td>\n",
       "      <td>1906.641124</td>\n",
       "      <td>0.000000</td>\n",
       "      <td>1069.348659</td>\n",
       "      <td>23302</td>\n",
       "      <td>2975.989783</td>\n",
       "    </tr>\n",
       "    <tr>\n",
       "      <th>27</th>\n",
       "      <td>3.01</td>\n",
       "      <td>8.05</td>\n",
       "      <td>0.94</td>\n",
       "      <td>54</td>\n",
       "      <td>528</td>\n",
       "      <td>0</td>\n",
       "      <td>13330</td>\n",
       "      <td>13.16</td>\n",
       "      <td>0.373913</td>\n",
       "      <td>0.116770</td>\n",
       "      <td>65.590062</td>\n",
       "      <td>0.000000</td>\n",
       "      <td>1655.900621</td>\n",
       "      <td>13858</td>\n",
       "      <td>1721.490683</td>\n",
       "    </tr>\n",
       "    <tr>\n",
       "      <th>4</th>\n",
       "      <td>29.19</td>\n",
       "      <td>8.19</td>\n",
       "      <td>12.46</td>\n",
       "      <td>133</td>\n",
       "      <td>10641</td>\n",
       "      <td>0</td>\n",
       "      <td>8521</td>\n",
       "      <td>21.60</td>\n",
       "      <td>3.564103</td>\n",
       "      <td>1.521368</td>\n",
       "      <td>1299.267399</td>\n",
       "      <td>0.000000</td>\n",
       "      <td>1040.415140</td>\n",
       "      <td>19162</td>\n",
       "      <td>2339.682540</td>\n",
       "    </tr>\n",
       "  </tbody>\n",
       "</table>\n",
       "</div>"
      ],
      "text/plain": [
       "    Eliminations  Deaths  Objective Kills  Objective Time  Damage  \\\n",
       "76         21.04   10.14             8.54             109   10287   \n",
       "26         21.00    8.67             8.24             111    7323   \n",
       "68         28.35    9.86             9.93              64   18287   \n",
       "20         15.19    7.67             4.82              51    5521   \n",
       "19         19.87    9.91             9.99             131    7342   \n",
       "67         36.02    8.93            11.13              48   12551   \n",
       "66         29.91    8.90             8.91              35   15654   \n",
       "62         38.31    7.97            11.39              58   14709   \n",
       "5          25.74    8.70             9.47              59   11302   \n",
       "35         35.47    5.91            15.56              99   16810   \n",
       "51         38.96    8.29            15.43              93   19761   \n",
       "45         33.25    8.43            11.25              76   14788   \n",
       "59         34.12   10.46            11.56              43   18695   \n",
       "14         31.71    7.83            11.73              63   14929   \n",
       "27          3.01    8.05             0.94              54     528   \n",
       "4          29.19    8.19            12.46             133   10641   \n",
       "\n",
       "    Blocked/Reflected  Healing  Ultimate Casts  KD Ratio  Objective per Life  \\\n",
       "76              22032        0            4.48  2.074951            0.842209   \n",
       "26                  0    10031           18.07  2.422145            0.950404   \n",
       "68                  0        0            5.80  2.875254            1.007099   \n",
       "20                  0     7581            8.10  1.980443            0.628422   \n",
       "19                  0     7483           17.88  2.005045            1.008073   \n",
       "67                  0     1101            3.38  4.033595            1.246361   \n",
       "66                  0     2426            5.28  3.360674            1.001124   \n",
       "62               1945        0            8.26  4.806775            1.429109   \n",
       "5                   0     7919            8.08  2.958621            1.088506   \n",
       "35               7164        0            9.73  6.001692            2.632826   \n",
       "51               8184        0            9.63  4.699638            1.861279   \n",
       "45                  0     5097            5.64  3.944247            1.334520   \n",
       "59                  0     2224            5.90  3.261950            1.105163   \n",
       "14                  0     8373            8.78  4.049808            1.498084   \n",
       "27                  0    13330           13.16  0.373913            0.116770   \n",
       "4                   0     8521           21.60  3.564103            1.521368   \n",
       "\n",
       "    Damage per Life  Blocked per Life  Healing per Life  StatSum  \\\n",
       "76      1014.497041       2172.781065          0.000000    32319   \n",
       "26       844.636678          0.000000       1156.978085    17354   \n",
       "68      1854.665314          0.000000          0.000000    18287   \n",
       "20       719.817471          0.000000        988.396349    13102   \n",
       "19       740.867810          0.000000        755.095863    14825   \n",
       "67      1405.487122          0.000000        123.292273    13652   \n",
       "66      1758.876404          0.000000        272.584270    18080   \n",
       "62      1845.545797        244.040151          0.000000    16654   \n",
       "5       1299.080460          0.000000        910.229885    19221   \n",
       "35      2844.331641       1212.182741          0.000000    23974   \n",
       "51      2383.715320        987.213510          0.000000    27945   \n",
       "45      1754.211151          0.000000        604.626335    19885   \n",
       "59      1787.284895          0.000000        212.619503    20919   \n",
       "14      1906.641124          0.000000       1069.348659    23302   \n",
       "27        65.590062          0.000000       1655.900621    13858   \n",
       "4       1299.267399          0.000000       1040.415140    19162   \n",
       "\n",
       "    Stats per Life  \n",
       "76     3187.278107  \n",
       "26     2001.614764  \n",
       "68     1854.665314  \n",
       "20     1708.213820  \n",
       "19     1495.963673  \n",
       "67     1528.779395  \n",
       "66     2031.460674  \n",
       "62     2089.585947  \n",
       "5      2209.310345  \n",
       "35     4056.514382  \n",
       "51     3370.928830  \n",
       "45     2358.837485  \n",
       "59     1999.904398  \n",
       "14     2975.989783  \n",
       "27     1721.490683  \n",
       "4      2339.682540  "
      ]
     },
     "execution_count": 39,
     "metadata": {},
     "output_type": "execute_result"
    }
   ],
   "source": [
    "x_test"
   ]
  },
  {
   "cell_type": "markdown",
   "metadata": {},
   "source": [
    "Since win% is a continuous target variable, the underlying prediction problem must be solved by a regression model. The model must predict values for win% as accurately as possible while also maintaining a manageable mathematical formula for future computations."
   ]
  },
  {
   "cell_type": "markdown",
   "metadata": {
    "collapsed": true
   },
   "source": [
    "The first algorithm to be used will be the simplest form of linear regression. Based on the nature of the algorithm, it should produce the simplest equation at the expense of accuracy. Additionally, we shall be using Ridge regression and support vector regression. All of the regression models will be initialized here."
   ]
  },
  {
   "cell_type": "code",
   "execution_count": 55,
   "metadata": {
    "collapsed": true
   },
   "outputs": [],
   "source": [
    "lin = linear_model.LinearRegression()\n",
    "rid = linear_model.Ridge(alpha=0.5)\n",
    "svr = svm.SVR(kernel='linear')"
   ]
  },
  {
   "cell_type": "code",
   "execution_count": 41,
   "metadata": {
    "collapsed": false
   },
   "outputs": [
    {
     "data": {
      "text/plain": [
       "array([ -1.66204134e+01,   1.18831842e+01,   4.68145187e+00,\n",
       "        -1.78008928e-01,   3.69407614e-02,  -1.91839817e-02,\n",
       "        -1.04567065e-02,   1.65977669e+00,   2.44605907e+02,\n",
       "        -1.35842793e+02,  -3.48131576e-01,   1.54091708e-01,\n",
       "         1.73783065e-01,   7.30007129e-03,  -2.02568033e-02])"
      ]
     },
     "execution_count": 41,
     "metadata": {},
     "output_type": "execute_result"
    }
   ],
   "source": [
    "lin.fit(x_train, y_train)\n",
    "lin.coef_"
   ]
  },
  {
   "cell_type": "code",
   "execution_count": 44,
   "metadata": {
    "collapsed": false
   },
   "outputs": [
    {
     "data": {
      "text/plain": [
       "array([ 533.32225568,  655.98253981,  614.0187132 ,  602.59385728,\n",
       "        569.36819474,  657.93292405,  648.74787826,  707.75358159,\n",
       "        665.86357974,  666.46483873,  681.36416147,  695.31207999,\n",
       "        686.54565057,  738.24291388,  580.23123173,  703.80558588])"
      ]
     },
     "execution_count": 44,
     "metadata": {},
     "output_type": "execute_result"
    }
   ],
   "source": [
    "a = lin.predict(x_test)\n",
    "a"
   ]
  },
  {
   "cell_type": "code",
   "execution_count": 45,
   "metadata": {
    "collapsed": false
   },
   "outputs": [
    {
     "data": {
      "text/plain": [
       "76    735.0\n",
       "26    556.0\n",
       "68    655.0\n",
       "20    709.0\n",
       "19    636.0\n",
       "67    636.0\n",
       "66    583.0\n",
       "62    785.0\n",
       "5     597.0\n",
       "35    707.0\n",
       "51    636.0\n",
       "45    771.0\n",
       "59    596.0\n",
       "14    708.0\n",
       "27    516.0\n",
       "4     759.0\n",
       "Name: Win Percentage, dtype: float64"
      ]
     },
     "execution_count": 45,
     "metadata": {},
     "output_type": "execute_result"
    }
   ],
   "source": [
    "y_test"
   ]
  },
  {
   "cell_type": "code",
   "execution_count": 49,
   "metadata": {
    "collapsed": false
   },
   "outputs": [
    {
     "data": {
      "text/plain": [
       "82.666453530403487"
      ]
     },
     "execution_count": 49,
     "metadata": {},
     "output_type": "execute_result"
    }
   ],
   "source": [
    "np.sqrt(np.mean((a-y_test)**2))"
   ]
  },
  {
   "cell_type": "markdown",
   "metadata": {},
   "source": [
    "Therefore, using linear regression, the predicted win% using statistical prediction has an average error of approximately 8.2% off of the true value. "
   ]
  },
  {
   "cell_type": "code",
   "execution_count": 50,
   "metadata": {
    "collapsed": false
   },
   "outputs": [
    {
     "data": {
      "text/plain": [
       "array([  2.32120866e+00,   3.17081640e+00,  -1.26094263e+01,\n",
       "        -7.99706205e-02,   1.72457089e-02,  -1.33945164e-02,\n",
       "        -1.28274834e-03,   1.46449653e+00,   7.03354798e+01,\n",
       "         2.24312203e+00,  -1.57241855e-01,   9.65679918e-02,\n",
       "         8.87311368e-02,   2.56859355e-03,   2.80572539e-02])"
      ]
     },
     "execution_count": 50,
     "metadata": {},
     "output_type": "execute_result"
    }
   ],
   "source": [
    "rid.fit(x_train,y_train)\n",
    "rid.coef_"
   ]
  },
  {
   "cell_type": "code",
   "execution_count": 51,
   "metadata": {
    "collapsed": false
   },
   "outputs": [
    {
     "data": {
      "text/plain": [
       "array([ 533.33806585,  655.73933784,  611.79351232,  598.19481159,\n",
       "        567.46675708,  651.44851632,  656.07625812,  691.03343755,\n",
       "        667.49952116,  687.70376399,  690.9099177 ,  697.53152651,\n",
       "        680.2602694 ,  741.0204284 ,  584.0110095 ,  696.48517889])"
      ]
     },
     "execution_count": 51,
     "metadata": {},
     "output_type": "execute_result"
    }
   ],
   "source": [
    "b = rid.predict(x_test)\n",
    "b"
   ]
  },
  {
   "cell_type": "code",
   "execution_count": 53,
   "metadata": {
    "collapsed": false
   },
   "outputs": [
    {
     "data": {
      "text/plain": [
       "84.537108266332595"
      ]
     },
     "execution_count": 53,
     "metadata": {},
     "output_type": "execute_result"
    }
   ],
   "source": [
    "np.sqrt(np.mean((b-y_test)**2))"
   ]
  },
  {
   "cell_type": "markdown",
   "metadata": {},
   "source": [
    "The ridge regression algorithm produces similar error. A win% value calculated using only in-game statistics will be within 8.4% of a player's actual winrate."
   ]
  },
  {
   "cell_type": "code",
   "execution_count": 56,
   "metadata": {
    "collapsed": false
   },
   "outputs": [
    {
     "data": {
      "text/plain": [
       "array([[ 11.36633646,   5.75146447,   3.92455295,   0.59507814,\n",
       "          0.01592921,  -0.05061445,   0.02107641,   7.64031608,\n",
       "          1.33383147,   0.85619197,  -0.1775245 ,   0.35681369,\n",
       "         -0.08313147,  -0.01360883,   0.09615772]])"
      ]
     },
     "execution_count": 56,
     "metadata": {},
     "output_type": "execute_result"
    }
   ],
   "source": [
    "svr.fit(x_train, y_train)\n",
    "svr.coef_"
   ]
  },
  {
   "cell_type": "code",
   "execution_count": 57,
   "metadata": {
    "collapsed": false
   },
   "outputs": [
    {
     "data": {
      "text/plain": [
       "array([ 193.7125067 ,  816.88501512,  646.12138074,  604.41297372,\n",
       "        812.20880847,  739.46720486,  657.09211092,  750.42067706,\n",
       "        722.59460424,  787.87826597,  710.90716886,  752.38979827,\n",
       "        736.22693913,  768.29576021,  584.06651013,  923.76303809])"
      ]
     },
     "execution_count": 57,
     "metadata": {},
     "output_type": "execute_result"
    }
   ],
   "source": [
    "c = svr.predict(x_test)\n",
    "c"
   ]
  },
  {
   "cell_type": "code",
   "execution_count": 58,
   "metadata": {
    "collapsed": false
   },
   "outputs": [
    {
     "data": {
      "text/plain": [
       "38.840172656318821"
      ]
     },
     "execution_count": 58,
     "metadata": {},
     "output_type": "execute_result"
    }
   ],
   "source": [
    "np.sqrt(np.mean(c-y_test)**2)"
   ]
  },
  {
   "cell_type": "markdown",
   "metadata": {},
   "source": [
    "The support vector regression algorithm claims to have the minimum expected error of the three models used. However, through inspection, it can be seen that it produces some wildly inaccurate outliers. The player in x_test[0] has a winrate above 70%, but the svr predicts them to be below 20%. Similarly, the svr predicts a player to have a 93% winrate while their actual winrate is closer to 70%."
   ]
  },
  {
   "cell_type": "code",
   "execution_count": null,
   "metadata": {
    "collapsed": true
   },
   "outputs": [],
   "source": []
  }
 ],
 "metadata": {
  "kernelspec": {
   "display_name": "Python 3",
   "language": "python",
   "name": "python3"
  },
  "language_info": {
   "codemirror_mode": {
    "name": "ipython",
    "version": 3
   },
   "file_extension": ".py",
   "mimetype": "text/x-python",
   "name": "python",
   "nbconvert_exporter": "python",
   "pygments_lexer": "ipython3",
   "version": "3.6.0"
  }
 },
 "nbformat": 4,
 "nbformat_minor": 2
}
